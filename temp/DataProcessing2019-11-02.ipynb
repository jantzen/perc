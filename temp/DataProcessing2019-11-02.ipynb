{
 "cells": [
  {
   "cell_type": "code",
   "execution_count": 1,
   "metadata": {},
   "outputs": [],
   "source": [
    "import pandas as pd\n",
    "import numpy as np\n",
    "import matplotlib.pyplot as plt"
   ]
  },
  {
   "cell_type": "markdown",
   "metadata": {},
   "source": [
    "Import the topsoil data:"
   ]
  },
  {
   "cell_type": "code",
   "execution_count": 2,
   "metadata": {},
   "outputs": [],
   "source": [
    "top1 = np.loadtxt('../data/topsoil_900.0_10.0_23.125_Tue_Oct_29_13:15:30_2019')\n",
    "top2 = np.loadtxt('../data/topsoil_900.0_10.0_24.187_Tue_Oct_29_14:50:16_2019')"
   ]
  },
  {
   "cell_type": "markdown",
   "metadata": {},
   "source": [
    "Convert depth to volume:"
   ]
  },
  {
   "cell_type": "code",
   "execution_count": 3,
   "metadata": {},
   "outputs": [],
   "source": [
    "top1[1,:] = (top1[1,0] - top1[1,:]) / 10. * np.pi * (2.25 * 2.54)**2\n",
    "top2[1,:] = (top2[1,0] - top2[1,:]) / 10. * np.pi * (2.25 * 2.54)**2"
   ]
  },
  {
   "cell_type": "markdown",
   "metadata": {},
   "source": [
    "Import the water data:"
   ]
  },
  {
   "cell_type": "code",
   "execution_count": 4,
   "metadata": {},
   "outputs": [],
   "source": [
    "w1 = np.loadtxt('../data/water_only_900.0_10.0_24.562_Sat_Nov__2_17:16:00_2019')\n",
    "w2 = np.loadtxt('../data/water_only_900.0_10.0_24.312_Sat_Nov__2_17:39:24_2019')"
   ]
  },
  {
   "cell_type": "markdown",
   "metadata": {},
   "source": [
    "Clean by cutting data before valve opened and after flow stopped:"
   ]
  },
  {
   "cell_type": "code",
   "execution_count": 5,
   "metadata": {},
   "outputs": [],
   "source": [
    "w1 = w1[:,45:130]\n",
    "w2 = w2[:,50:150]"
   ]
  },
  {
   "cell_type": "markdown",
   "metadata": {},
   "source": [
    "Convert depth to volume:"
   ]
  },
  {
   "cell_type": "code",
   "execution_count": 6,
   "metadata": {},
   "outputs": [],
   "source": [
    "w1[1,:] = (w1[1,0] - w1[1,:]) / 10. * np.pi * (2.25 * 2.54)**2\n",
    "w2[1,:] = (w2[1,0] - w2[1,:]) / 10. * np.pi * (2.25 * 2.54)**2"
   ]
  },
  {
   "cell_type": "markdown",
   "metadata": {},
   "source": [
    "Create data frames:"
   ]
  },
  {
   "cell_type": "code",
   "execution_count": 7,
   "metadata": {},
   "outputs": [],
   "source": [
    "dftop1 = pd.DataFrame(top1.T,columns=('time','volume','pressure'))\n",
    "dftop2 = pd.DataFrame(top2.T,columns=('time','volume','pressure'))\n",
    "dfw1 = pd.DataFrame(w1.T,columns=('time','volume','pressure'))\n",
    "dfw2 = pd.DataFrame(w2.T,columns=('time','volume','pressure'))"
   ]
  },
  {
   "cell_type": "code",
   "execution_count": 8,
   "metadata": {},
   "outputs": [
    {
     "data": {
      "text/html": [
       "<div>\n",
       "<style scoped>\n",
       "    .dataframe tbody tr th:only-of-type {\n",
       "        vertical-align: middle;\n",
       "    }\n",
       "\n",
       "    .dataframe tbody tr th {\n",
       "        vertical-align: top;\n",
       "    }\n",
       "\n",
       "    .dataframe thead th {\n",
       "        text-align: right;\n",
       "    }\n",
       "</style>\n",
       "<table border=\"1\" class=\"dataframe\">\n",
       "  <thead>\n",
       "    <tr style=\"text-align: right;\">\n",
       "      <th></th>\n",
       "      <th>time</th>\n",
       "      <th>volume</th>\n",
       "      <th>pressure</th>\n",
       "    </tr>\n",
       "  </thead>\n",
       "  <tbody>\n",
       "    <tr>\n",
       "      <td>0</td>\n",
       "      <td>59.314455</td>\n",
       "      <td>0.000000</td>\n",
       "      <td>950.77</td>\n",
       "    </tr>\n",
       "    <tr>\n",
       "      <td>1</td>\n",
       "      <td>59.474363</td>\n",
       "      <td>61.564959</td>\n",
       "      <td>950.62</td>\n",
       "    </tr>\n",
       "    <tr>\n",
       "      <td>2</td>\n",
       "      <td>59.666110</td>\n",
       "      <td>41.043306</td>\n",
       "      <td>950.76</td>\n",
       "    </tr>\n",
       "    <tr>\n",
       "      <td>3</td>\n",
       "      <td>59.858086</td>\n",
       "      <td>0.000000</td>\n",
       "      <td>950.77</td>\n",
       "    </tr>\n",
       "    <tr>\n",
       "      <td>4</td>\n",
       "      <td>60.017864</td>\n",
       "      <td>61.564959</td>\n",
       "      <td>950.78</td>\n",
       "    </tr>\n",
       "  </tbody>\n",
       "</table>\n",
       "</div>"
      ],
      "text/plain": [
       "        time     volume  pressure\n",
       "0  59.314455   0.000000    950.77\n",
       "1  59.474363  61.564959    950.62\n",
       "2  59.666110  41.043306    950.76\n",
       "3  59.858086   0.000000    950.77\n",
       "4  60.017864  61.564959    950.78"
      ]
     },
     "execution_count": 8,
     "metadata": {},
     "output_type": "execute_result"
    }
   ],
   "source": [
    "dftop1.head()"
   ]
  },
  {
   "cell_type": "code",
   "execution_count": 9,
   "metadata": {},
   "outputs": [
    {
     "data": {
      "image/png": "[encoded data removed]",
      "text/plain": [
       "<Figure size 432x288 with 1 Axes>"
      ]
     },
     "metadata": {
      "needs_background": "light"
     },
     "output_type": "display_data"
    }
   ],
   "source": [
    "plt.plot(dftop1['volume'])\n",
    "plt.plot(dftop2['volume'])\n",
    "plt.title(\"topsoil\")\n",
    "plt.xlabel(\"time index\")\n",
    "plt.ylabel(\"volume (mL)\")\n",
    "plt.legend(['topsoil 1', 'topsoil 2']);"
   ]
  },
  {
   "cell_type": "code",
   "execution_count": 10,
   "metadata": {},
   "outputs": [
    {
     "data": {
      "image/png": "[encoded data removed]",
      "text/plain": [
       "<Figure size 432x288 with 1 Axes>"
      ]
     },
     "metadata": {
      "needs_background": "light"
     },
     "output_type": "display_data"
    }
   ],
   "source": [
    "plt.plot(dfw1['volume'])\n",
    "plt.plot(dfw2['volume'])\n",
    "plt.title(\"water alone\")\n",
    "plt.xlabel(\"time index\")\n",
    "plt.ylabel(\"volume (mL)\")\n",
    "plt.legend(['water 1', 'water 2']);"
   ]
  },
  {
   "cell_type": "markdown",
   "metadata": {},
   "source": [
    "Build symmetries"
   ]
  },
  {
   "cell_type": "code",
   "execution_count": 11,
   "metadata": {},
   "outputs": [],
   "source": [
    "x = dftop1['volume'].to_numpy()\n",
    "x1 = x[:min(np.where(x > 800)[0])].reshape(-1,1)\n",
    "x2 = x[min(np.where(x > 800)[0]):min(np.where(x > 800)[0])+len(x1)].reshape(-1,1)\n",
    "dftop1sym = pd.DataFrame(np.concatenate([x1,x2],axis=1),columns=['untrans','trans'])\n",
    "\n",
    "x = dftop2['volume'].to_numpy()\n",
    "x1 = x[:min(np.where(x > 800)[0])].reshape(-1,1)\n",
    "x2 = x[min(np.where(x > 800)[0]):min(np.where(x > 800)[0])+len(x1)].reshape(-1,1)\n",
    "dftop2sym = pd.DataFrame(np.concatenate([x1,x2],axis=1),columns=['untrans','trans'])\n",
    "\n",
    "x = dfw1['volume'].to_numpy()\n",
    "x1 = x[:min(np.where(x > 800)[0])].reshape(-1,1)\n",
    "x2 = x[min(np.where(x > 800)[0]):min(np.where(x > 800)[0])+len(x1)].reshape(-1,1)\n",
    "dfw1sym = pd.DataFrame(np.concatenate([x1,x2],axis=1),columns=['untrans','trans'])\n",
    "\n",
    "x = dfw2['volume'].to_numpy()\n",
    "x1 = x[:min(np.where(x > 800)[0])].reshape(-1,1)\n",
    "x2 = x[min(np.where(x > 800)[0]):min(np.where(x > 800)[0])+len(x1)].reshape(-1,1)\n",
    "dfw2sym = pd.DataFrame(np.concatenate([x1,x2],axis=1),columns=['untrans','trans'])"
   ]
  },
  {
   "cell_type": "code",
   "execution_count": 12,
   "metadata": {},
   "outputs": [
    {
     "data": {
      "text/html": [
       "<div>\n",
       "<style scoped>\n",
       "    .dataframe tbody tr th:only-of-type {\n",
       "        vertical-align: middle;\n",
       "    }\n",
       "\n",
       "    .dataframe tbody tr th {\n",
       "        vertical-align: top;\n",
       "    }\n",
       "\n",
       "    .dataframe thead th {\n",
       "        text-align: right;\n",
       "    }\n",
       "</style>\n",
       "<table border=\"1\" class=\"dataframe\">\n",
       "  <thead>\n",
       "    <tr style=\"text-align: right;\">\n",
       "      <th></th>\n",
       "      <th>untrans</th>\n",
       "      <th>trans</th>\n",
       "    </tr>\n",
       "  </thead>\n",
       "  <tbody>\n",
       "    <tr>\n",
       "      <td>0</td>\n",
       "      <td>0.000000</td>\n",
       "      <td>800.344463</td>\n",
       "    </tr>\n",
       "    <tr>\n",
       "      <td>1</td>\n",
       "      <td>61.564959</td>\n",
       "      <td>769.561984</td>\n",
       "    </tr>\n",
       "    <tr>\n",
       "      <td>2</td>\n",
       "      <td>41.043306</td>\n",
       "      <td>779.822810</td>\n",
       "    </tr>\n",
       "    <tr>\n",
       "      <td>3</td>\n",
       "      <td>0.000000</td>\n",
       "      <td>779.822810</td>\n",
       "    </tr>\n",
       "    <tr>\n",
       "      <td>4</td>\n",
       "      <td>61.564959</td>\n",
       "      <td>790.083637</td>\n",
       "    </tr>\n",
       "  </tbody>\n",
       "</table>\n",
       "</div>"
      ],
      "text/plain": [
       "     untrans       trans\n",
       "0   0.000000  800.344463\n",
       "1  61.564959  769.561984\n",
       "2  41.043306  779.822810\n",
       "3   0.000000  779.822810\n",
       "4  61.564959  790.083637"
      ]
     },
     "execution_count": 12,
     "metadata": {},
     "output_type": "execute_result"
    }
   ],
   "source": [
    "dftop1sym.head()"
   ]
  },
  {
   "cell_type": "markdown",
   "metadata": {},
   "source": [
    "Plot symmetries all together:"
   ]
  },
  {
   "cell_type": "code",
   "execution_count": 13,
   "metadata": {},
   "outputs": [
    {
     "data": {
      "image/png": "[encoded data removed]",
      "text/plain": [
       "<Figure size 432x288 with 1 Axes>"
      ]
     },
     "metadata": {
      "needs_background": "light"
     },
     "output_type": "display_data"
    }
   ],
   "source": [
    "plt.figure()\n",
    "plt.plot(dftop1sym['untrans'],dftop1sym['trans'],'k.',LineStyle='none');\n",
    "plt.plot(dftop2sym['untrans'],dftop2sym['trans'],'k.',LineStyle='none');\n",
    "plt.plot(dfw1sym['untrans'],dfw1sym['trans'],'b-');\n",
    "plt.plot(dfw2sym['untrans'],dfw2sym['trans'],'r-');"
   ]
  }
 ],
 "metadata": {
  "kernelspec": {
   "display_name": "Python 3",
   "language": "python",
   "name": "python3"
  },
  "language_info": {
   "codemirror_mode": {
    "name": "ipython",
    "version": 3
   },
   "file_extension": ".py",
   "mimetype": "text/x-python",
   "name": "python",
   "nbconvert_exporter": "python",
   "pygments_lexer": "ipython3",
   "version": "3.5.3"
  }
 },
 "nbformat": 4,
 "nbformat_minor": 2
}
